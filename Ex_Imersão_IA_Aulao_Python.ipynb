{
  "cells": [
    {
      "cell_type": "markdown",
      "metadata": {
        "id": "view-in-github",
        "colab_type": "text"
      },
      "source": [
        "<a href=\"https://colab.research.google.com/github/RafaelCastro2024/Aulas-Alura/blob/main/Ex_Imers%C3%A3o_IA_Aulao_Python.ipynb\" target=\"_parent\"><img src=\"https://colab.research.google.com/assets/colab-badge.svg\" alt=\"Open In Colab\"/></a>"
      ]
    },
    {
      "cell_type": "code",
      "execution_count": null,
      "metadata": {
        "colab": {
          "base_uri": "https://localhost:8080/"
        },
        "id": "sCIPbJMy0qQs",
        "outputId": "153f8bde-f104-4d94-ed13-02ca00fc74ce"
      },
      "outputs": [
        {
          "data": {
            "text/plain": [
              "43"
            ]
          },
          "execution_count": 26,
          "metadata": {},
          "output_type": "execute_result"
        }
      ],
      "source": [
        "# importar bibliotecas capaz de realizar requisicoes (acessando paginas por exemplo)\n",
        "import requests\n",
        "import random\n",
        "\n",
        "# criando variaveis q armazena o endereco com as informacoes q desejo buscar\n",
        "url = 'https://raw.githubusercontent.com/guilhermeonrails/api-imersao-ia/main/words.json'\n",
        "# faço requisicao e armazeno em uma variavel chamada resposta\n",
        "resposta = requests.get(url)\n",
        "# transforma a resposta em um JSON\n",
        "data = resposta.json()\n",
        "# exibindo informacoes\n",
        "print(data)\n",
        "# ou\n",
        "data\n",
        "# comprimento...numero de elementos\n",
        "len(data)"
      ]
    },
    {
      "cell_type": "code",
      "execution_count": null,
      "metadata": {
        "colab": {
          "base_uri": "https://localhost:8080/"
        },
        "id": "fLS5grqa4rk3",
        "outputId": "cc8e28bc-0cce-468f-c54f-249fd2053581"
      },
      "outputs": [
        {
          "data": {
            "text/plain": [
              "{'palavra': 'python',\n",
              " 'dica': 'automatizar tarefas e desenvolver aplicações web.'}"
            ]
          },
          "execution_count": 27,
          "metadata": {},
          "output_type": "execute_result"
        }
      ],
      "source": [
        "# acessando as informacoes\n",
        "# toda lista python comeca com indice 0, -1 , -2\n",
        "data[0]"
      ]
    },
    {
      "cell_type": "code",
      "execution_count": null,
      "metadata": {
        "colab": {
          "background_save": true,
          "base_uri": "https://localhost:8080/"
        },
        "id": "k4uFT88758fy",
        "outputId": "7e40a830-c3ab-4673-cb4b-e7d5e61c15ff"
      },
      "outputs": [
        {
          "name": "stdout",
          "output_type": "stream",
          "text": [
            "A palavra secreta tem 10 letras\n",
            "A dica é construir e treinar modelos de aprendizado de máquina.\n"
          ]
        }
      ],
      "source": [
        "\n",
        "# variavel chamada valor secreto que armazena um elemento aleatorio da lista\n",
        "valor_secreto = random.choice(data)\n",
        "# separamos a palavra da dica\n",
        "palavra_secreta = valor_secreto['palavra']\n",
        "dica = valor_secreto['dica']\n",
        "# mostrar na tela o numero de letras e a dica\n",
        "# o f é para juntar dizeres com o conteudo de uma variavel entre chaves{}\n",
        "# receber o chute da tecnologia\n",
        "print(f'A palavra secreta tem {len(palavra_secreta)} letras')\n",
        "print(f'A dica é {dica}')\n",
        "chute = input(f'O que vc acha q é? ')\n",
        "if chute == palavra_secreta:\n",
        "  print('Acertou')\n",
        "else:\n",
        "  print(f'errou, era {palavra_secreta}')"
      ]
    },
    {
      "cell_type": "code",
      "execution_count": null,
      "metadata": {
        "id": "eokaP7Mp6Bq3"
      },
      "outputs": [],
      "source": []
    }
  ],
  "metadata": {
    "colab": {
      "provenance": [],
      "authorship_tag": "ABX9TyN09O9bb0ZU0SbuTnvuUME/",
      "include_colab_link": true
    },
    "kernelspec": {
      "display_name": "Python 3",
      "name": "python3"
    },
    "language_info": {
      "name": "python"
    }
  },
  "nbformat": 4,
  "nbformat_minor": 0
}